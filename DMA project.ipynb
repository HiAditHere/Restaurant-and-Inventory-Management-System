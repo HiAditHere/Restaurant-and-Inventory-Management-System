{
 "cells": [
  {
   "cell_type": "code",
   "execution_count": 1,
   "id": "4db994f4",
   "metadata": {},
   "outputs": [
    {
     "name": "stdout",
     "output_type": "stream",
     "text": [
      "Collecting mysql-connector\n",
      "  Downloading mysql-connector-2.2.9.tar.gz (11.9 MB)\n",
      "     ---------------------------------------- 11.9/11.9 MB 6.3 MB/s eta 0:00:00\n",
      "  Preparing metadata (setup.py): started\n",
      "  Preparing metadata (setup.py): finished with status 'done'"
     ]
    },
    {
     "name": "stderr",
     "output_type": "stream",
     "text": [
      "WARNING: You are using pip version 22.0.4; however, version 22.3.1 is available.\n",
      "You should consider upgrading via the 'c:\\users\\aditb\\appdata\\local\\programs\\python\\python39\\python.exe -m pip install --upgrade pip' command.\n"
     ]
    },
    {
     "name": "stdout",
     "output_type": "stream",
     "text": [
      "\n",
      "Building wheels for collected packages: mysql-connector\n",
      "  Building wheel for mysql-connector (setup.py): started\n",
      "  Building wheel for mysql-connector (setup.py): finished with status 'done'\n",
      "  Created wheel for mysql-connector: filename=mysql_connector-2.2.9-cp39-cp39-win_amd64.whl size=247945 sha256=98f6eb3c805fa87863385a37a27d58b1878a64814b45c1d759938dc3e4d5ab56\n",
      "  Stored in directory: c:\\users\\aditb\\appdata\\local\\pip\\cache\\wheels\\7b\\14\\39\\5aad423666e827dfe9a1fbcd111ac17171e7c9865d570780ce\n",
      "Successfully built mysql-connector\n",
      "Installing collected packages: mysql-connector\n",
      "Successfully installed mysql-connector-2.2.9\n"
     ]
    }
   ],
   "source": [
    "!pip install mysql-connector"
   ]
  },
  {
   "cell_type": "code",
   "execution_count": 2,
   "id": "3d9b6f61",
   "metadata": {},
   "outputs": [
    {
     "name": "stdout",
     "output_type": "stream",
     "text": [
      "Collecting pymysql\n",
      "  Downloading PyMySQL-1.0.2-py3-none-any.whl (43 kB)\n",
      "     ---------------------------------------- 43.8/43.8 KB 1.1 MB/s eta 0:00:00\n",
      "Installing collected packages: pymysql\n",
      "Successfully installed pymysql-1.0.2\n"
     ]
    },
    {
     "name": "stderr",
     "output_type": "stream",
     "text": [
      "WARNING: You are using pip version 22.0.4; however, version 22.3.1 is available.\n",
      "You should consider upgrading via the 'c:\\users\\aditb\\appdata\\local\\programs\\python\\python39\\python.exe -m pip install --upgrade pip' command.\n"
     ]
    }
   ],
   "source": [
    "!pip install pymysql"
   ]
  },
  {
   "cell_type": "code",
   "execution_count": 37,
   "id": "8928447d",
   "metadata": {},
   "outputs": [],
   "source": [
    "import mysql.connector\n",
    "import pandas as pd\n",
    "import matplotlib.pyplot as plt\n",
    "import seaborn as sns\n",
    "import matplotlib.pyplot as mp\n",
    "import os\n",
    "import pymysql\n",
    "import pandas as pd"
   ]
  },
  {
   "cell_type": "code",
   "execution_count": 38,
   "id": "0112bb58",
   "metadata": {},
   "outputs": [],
   "source": [
    "host= os.getenv( 'Local' )\n",
    "conn= pymysql.connect(\n",
    "    host=host,\n",
    "    port=int (3306),\n",
    "    user= \"root\",\n",
    "    passwd='<password>', # Put your password in this place\n",
    "    db=\"restaurant\",\n",
    "    charset='utf8mb4')"
   ]
  },
  {
   "cell_type": "code",
   "execution_count": 39,
   "id": "8ac3d67b",
   "metadata": {},
   "outputs": [
    {
     "name": "stderr",
     "output_type": "stream",
     "text": [
      "c:\\users\\aditb\\appdata\\local\\programs\\python\\python39\\lib\\site-packages\\pandas\\io\\sql.py:761: UserWarning:\n",
      "\n",
      "pandas only support SQLAlchemy connectable(engine/connection) ordatabase string URI or sqlite3 DBAPI2 connectionother DBAPI2 objects are not tested, please consider using SQLAlchemy\n",
      "\n",
      "c:\\users\\aditb\\appdata\\local\\programs\\python\\python39\\lib\\site-packages\\pandas\\io\\sql.py:761: UserWarning:\n",
      "\n",
      "pandas only support SQLAlchemy connectable(engine/connection) ordatabase string URI or sqlite3 DBAPI2 connectionother DBAPI2 objects are not tested, please consider using SQLAlchemy\n",
      "\n",
      "c:\\users\\aditb\\appdata\\local\\programs\\python\\python39\\lib\\site-packages\\pandas\\io\\sql.py:761: UserWarning:\n",
      "\n",
      "pandas only support SQLAlchemy connectable(engine/connection) ordatabase string URI or sqlite3 DBAPI2 connectionother DBAPI2 objects are not tested, please consider using SQLAlchemy\n",
      "\n"
     ]
    }
   ],
   "source": [
    "orders = pd.read_sql('SELECT * FROM orders',conn)\n",
    "waiters= pd.read_sql('SELECT * FROM waiter',conn)\n",
    "dishes= pd.read_sql('SELECT * FROM dishes',conn)"
   ]
  },
  {
   "cell_type": "code",
   "execution_count": 40,
   "id": "03c74c29",
   "metadata": {},
   "outputs": [
    {
     "data": {
      "text/html": [
       "<div>\n",
       "<style scoped>\n",
       "    .dataframe tbody tr th:only-of-type {\n",
       "        vertical-align: middle;\n",
       "    }\n",
       "\n",
       "    .dataframe tbody tr th {\n",
       "        vertical-align: top;\n",
       "    }\n",
       "\n",
       "    .dataframe thead th {\n",
       "        text-align: right;\n",
       "    }\n",
       "</style>\n",
       "<table border=\"1\" class=\"dataframe\">\n",
       "  <thead>\n",
       "    <tr style=\"text-align: right;\">\n",
       "      <th></th>\n",
       "      <th>ORDERID</th>\n",
       "      <th>CUSTOMERID</th>\n",
       "      <th>WAITERID</th>\n",
       "      <th>TIP</th>\n",
       "      <th>MONTH_AND_DATE</th>\n",
       "    </tr>\n",
       "  </thead>\n",
       "  <tbody>\n",
       "    <tr>\n",
       "      <th>0</th>\n",
       "      <td>1</td>\n",
       "      <td>74</td>\n",
       "      <td>2</td>\n",
       "      <td>6.92</td>\n",
       "      <td>1975-10-25</td>\n",
       "    </tr>\n",
       "    <tr>\n",
       "      <th>1</th>\n",
       "      <td>2</td>\n",
       "      <td>97</td>\n",
       "      <td>5</td>\n",
       "      <td>3.92</td>\n",
       "      <td>1986-06-22</td>\n",
       "    </tr>\n",
       "    <tr>\n",
       "      <th>2</th>\n",
       "      <td>3</td>\n",
       "      <td>91</td>\n",
       "      <td>3</td>\n",
       "      <td>9.05</td>\n",
       "      <td>1985-01-23</td>\n",
       "    </tr>\n",
       "    <tr>\n",
       "      <th>3</th>\n",
       "      <td>4</td>\n",
       "      <td>26</td>\n",
       "      <td>6</td>\n",
       "      <td>8.78</td>\n",
       "      <td>2008-10-27</td>\n",
       "    </tr>\n",
       "    <tr>\n",
       "      <th>4</th>\n",
       "      <td>5</td>\n",
       "      <td>46</td>\n",
       "      <td>4</td>\n",
       "      <td>6.12</td>\n",
       "      <td>2003-09-09</td>\n",
       "    </tr>\n",
       "    <tr>\n",
       "      <th>...</th>\n",
       "      <td>...</td>\n",
       "      <td>...</td>\n",
       "      <td>...</td>\n",
       "      <td>...</td>\n",
       "      <td>...</td>\n",
       "    </tr>\n",
       "    <tr>\n",
       "      <th>195</th>\n",
       "      <td>196</td>\n",
       "      <td>28</td>\n",
       "      <td>5</td>\n",
       "      <td>6.28</td>\n",
       "      <td>1988-09-27</td>\n",
       "    </tr>\n",
       "    <tr>\n",
       "      <th>196</th>\n",
       "      <td>197</td>\n",
       "      <td>62</td>\n",
       "      <td>1</td>\n",
       "      <td>1.68</td>\n",
       "      <td>2017-10-24</td>\n",
       "    </tr>\n",
       "    <tr>\n",
       "      <th>197</th>\n",
       "      <td>198</td>\n",
       "      <td>38</td>\n",
       "      <td>2</td>\n",
       "      <td>2.60</td>\n",
       "      <td>1987-12-08</td>\n",
       "    </tr>\n",
       "    <tr>\n",
       "      <th>198</th>\n",
       "      <td>199</td>\n",
       "      <td>61</td>\n",
       "      <td>5</td>\n",
       "      <td>2.05</td>\n",
       "      <td>2015-02-13</td>\n",
       "    </tr>\n",
       "    <tr>\n",
       "      <th>199</th>\n",
       "      <td>200</td>\n",
       "      <td>38</td>\n",
       "      <td>2</td>\n",
       "      <td>8.04</td>\n",
       "      <td>1997-08-21</td>\n",
       "    </tr>\n",
       "  </tbody>\n",
       "</table>\n",
       "<p>200 rows × 5 columns</p>\n",
       "</div>"
      ],
      "text/plain": [
       "     ORDERID  CUSTOMERID  WAITERID   TIP MONTH_AND_DATE\n",
       "0          1          74         2  6.92     1975-10-25\n",
       "1          2          97         5  3.92     1986-06-22\n",
       "2          3          91         3  9.05     1985-01-23\n",
       "3          4          26         6  8.78     2008-10-27\n",
       "4          5          46         4  6.12     2003-09-09\n",
       "..       ...         ...       ...   ...            ...\n",
       "195      196          28         5  6.28     1988-09-27\n",
       "196      197          62         1  1.68     2017-10-24\n",
       "197      198          38         2  2.60     1987-12-08\n",
       "198      199          61         5  2.05     2015-02-13\n",
       "199      200          38         2  8.04     1997-08-21\n",
       "\n",
       "[200 rows x 5 columns]"
      ]
     },
     "execution_count": 40,
     "metadata": {},
     "output_type": "execute_result"
    }
   ],
   "source": [
    "orders"
   ]
  },
  {
   "cell_type": "code",
   "execution_count": 41,
   "id": "d8633b27",
   "metadata": {},
   "outputs": [
    {
     "data": {
      "text/html": [
       "<div>\n",
       "<style scoped>\n",
       "    .dataframe tbody tr th:only-of-type {\n",
       "        vertical-align: middle;\n",
       "    }\n",
       "\n",
       "    .dataframe tbody tr th {\n",
       "        vertical-align: top;\n",
       "    }\n",
       "\n",
       "    .dataframe thead th {\n",
       "        text-align: right;\n",
       "    }\n",
       "</style>\n",
       "<table border=\"1\" class=\"dataframe\">\n",
       "  <thead>\n",
       "    <tr style=\"text-align: right;\">\n",
       "      <th></th>\n",
       "      <th>WAITERID</th>\n",
       "      <th>NAME</th>\n",
       "      <th>EMAIL</th>\n",
       "      <th>DOB</th>\n",
       "      <th>PERIOD_OF_SERVICE</th>\n",
       "    </tr>\n",
       "  </thead>\n",
       "  <tbody>\n",
       "    <tr>\n",
       "      <th>0</th>\n",
       "      <td>1</td>\n",
       "      <td>Sean</td>\n",
       "      <td>sgrima0@sphinn.com</td>\n",
       "      <td>1990-04-09</td>\n",
       "      <td>521</td>\n",
       "    </tr>\n",
       "    <tr>\n",
       "      <th>1</th>\n",
       "      <td>2</td>\n",
       "      <td>Erika</td>\n",
       "      <td>egleder1@newsvine.com</td>\n",
       "      <td>1982-09-13</td>\n",
       "      <td>311</td>\n",
       "    </tr>\n",
       "    <tr>\n",
       "      <th>2</th>\n",
       "      <td>3</td>\n",
       "      <td>Auberon</td>\n",
       "      <td>agreep2@wiley.com</td>\n",
       "      <td>1961-08-31</td>\n",
       "      <td>100</td>\n",
       "    </tr>\n",
       "    <tr>\n",
       "      <th>3</th>\n",
       "      <td>4</td>\n",
       "      <td>Kingsley</td>\n",
       "      <td>kandreuzzi3@studiopress.com</td>\n",
       "      <td>1970-05-19</td>\n",
       "      <td>700</td>\n",
       "    </tr>\n",
       "    <tr>\n",
       "      <th>4</th>\n",
       "      <td>5</td>\n",
       "      <td>Collin</td>\n",
       "      <td>cgraffham4@japanpost.jp</td>\n",
       "      <td>1972-11-26</td>\n",
       "      <td>599</td>\n",
       "    </tr>\n",
       "    <tr>\n",
       "      <th>5</th>\n",
       "      <td>6</td>\n",
       "      <td>Dari</td>\n",
       "      <td>dslinn5@purevolume.com</td>\n",
       "      <td>1993-04-08</td>\n",
       "      <td>425</td>\n",
       "    </tr>\n",
       "    <tr>\n",
       "      <th>6</th>\n",
       "      <td>7</td>\n",
       "      <td>Donovan</td>\n",
       "      <td>dcheasman6@irs.gov</td>\n",
       "      <td>1976-06-10</td>\n",
       "      <td>135</td>\n",
       "    </tr>\n",
       "  </tbody>\n",
       "</table>\n",
       "</div>"
      ],
      "text/plain": [
       "   WAITERID      NAME                        EMAIL        DOB  \\\n",
       "0         1      Sean           sgrima0@sphinn.com 1990-04-09   \n",
       "1         2     Erika        egleder1@newsvine.com 1982-09-13   \n",
       "2         3   Auberon            agreep2@wiley.com 1961-08-31   \n",
       "3         4  Kingsley  kandreuzzi3@studiopress.com 1970-05-19   \n",
       "4         5    Collin      cgraffham4@japanpost.jp 1972-11-26   \n",
       "5         6      Dari       dslinn5@purevolume.com 1993-04-08   \n",
       "6         7   Donovan           dcheasman6@irs.gov 1976-06-10   \n",
       "\n",
       "   PERIOD_OF_SERVICE  \n",
       "0                521  \n",
       "1                311  \n",
       "2                100  \n",
       "3                700  \n",
       "4                599  \n",
       "5                425  \n",
       "6                135  "
      ]
     },
     "execution_count": 41,
     "metadata": {},
     "output_type": "execute_result"
    }
   ],
   "source": [
    "waiters"
   ]
  },
  {
   "cell_type": "code",
   "execution_count": 42,
   "id": "9551d269",
   "metadata": {},
   "outputs": [
    {
     "data": {
      "text/html": [
       "<div>\n",
       "<style scoped>\n",
       "    .dataframe tbody tr th:only-of-type {\n",
       "        vertical-align: middle;\n",
       "    }\n",
       "\n",
       "    .dataframe tbody tr th {\n",
       "        vertical-align: top;\n",
       "    }\n",
       "\n",
       "    .dataframe thead th {\n",
       "        text-align: right;\n",
       "    }\n",
       "</style>\n",
       "<table border=\"1\" class=\"dataframe\">\n",
       "  <thead>\n",
       "    <tr style=\"text-align: right;\">\n",
       "      <th></th>\n",
       "      <th>ORDERID</th>\n",
       "      <th>CUSTOMERID</th>\n",
       "      <th>WAITERID</th>\n",
       "      <th>TIP</th>\n",
       "      <th>MONTH_AND_DATE</th>\n",
       "      <th>NAME</th>\n",
       "      <th>EMAIL</th>\n",
       "      <th>DOB</th>\n",
       "      <th>PERIOD_OF_SERVICE</th>\n",
       "    </tr>\n",
       "  </thead>\n",
       "  <tbody>\n",
       "    <tr>\n",
       "      <th>0</th>\n",
       "      <td>1</td>\n",
       "      <td>74</td>\n",
       "      <td>2</td>\n",
       "      <td>6.92</td>\n",
       "      <td>1975-10-25</td>\n",
       "      <td>Erika</td>\n",
       "      <td>egleder1@newsvine.com</td>\n",
       "      <td>1982-09-13</td>\n",
       "      <td>311</td>\n",
       "    </tr>\n",
       "    <tr>\n",
       "      <th>1</th>\n",
       "      <td>2</td>\n",
       "      <td>97</td>\n",
       "      <td>5</td>\n",
       "      <td>3.92</td>\n",
       "      <td>1986-06-22</td>\n",
       "      <td>Collin</td>\n",
       "      <td>cgraffham4@japanpost.jp</td>\n",
       "      <td>1972-11-26</td>\n",
       "      <td>599</td>\n",
       "    </tr>\n",
       "    <tr>\n",
       "      <th>2</th>\n",
       "      <td>3</td>\n",
       "      <td>91</td>\n",
       "      <td>3</td>\n",
       "      <td>9.05</td>\n",
       "      <td>1985-01-23</td>\n",
       "      <td>Auberon</td>\n",
       "      <td>agreep2@wiley.com</td>\n",
       "      <td>1961-08-31</td>\n",
       "      <td>100</td>\n",
       "    </tr>\n",
       "    <tr>\n",
       "      <th>3</th>\n",
       "      <td>4</td>\n",
       "      <td>26</td>\n",
       "      <td>6</td>\n",
       "      <td>8.78</td>\n",
       "      <td>2008-10-27</td>\n",
       "      <td>Dari</td>\n",
       "      <td>dslinn5@purevolume.com</td>\n",
       "      <td>1993-04-08</td>\n",
       "      <td>425</td>\n",
       "    </tr>\n",
       "    <tr>\n",
       "      <th>4</th>\n",
       "      <td>5</td>\n",
       "      <td>46</td>\n",
       "      <td>4</td>\n",
       "      <td>6.12</td>\n",
       "      <td>2003-09-09</td>\n",
       "      <td>Kingsley</td>\n",
       "      <td>kandreuzzi3@studiopress.com</td>\n",
       "      <td>1970-05-19</td>\n",
       "      <td>700</td>\n",
       "    </tr>\n",
       "    <tr>\n",
       "      <th>...</th>\n",
       "      <td>...</td>\n",
       "      <td>...</td>\n",
       "      <td>...</td>\n",
       "      <td>...</td>\n",
       "      <td>...</td>\n",
       "      <td>...</td>\n",
       "      <td>...</td>\n",
       "      <td>...</td>\n",
       "      <td>...</td>\n",
       "    </tr>\n",
       "    <tr>\n",
       "      <th>195</th>\n",
       "      <td>196</td>\n",
       "      <td>28</td>\n",
       "      <td>5</td>\n",
       "      <td>6.28</td>\n",
       "      <td>1988-09-27</td>\n",
       "      <td>Collin</td>\n",
       "      <td>cgraffham4@japanpost.jp</td>\n",
       "      <td>1972-11-26</td>\n",
       "      <td>599</td>\n",
       "    </tr>\n",
       "    <tr>\n",
       "      <th>196</th>\n",
       "      <td>197</td>\n",
       "      <td>62</td>\n",
       "      <td>1</td>\n",
       "      <td>1.68</td>\n",
       "      <td>2017-10-24</td>\n",
       "      <td>Sean</td>\n",
       "      <td>sgrima0@sphinn.com</td>\n",
       "      <td>1990-04-09</td>\n",
       "      <td>521</td>\n",
       "    </tr>\n",
       "    <tr>\n",
       "      <th>197</th>\n",
       "      <td>198</td>\n",
       "      <td>38</td>\n",
       "      <td>2</td>\n",
       "      <td>2.60</td>\n",
       "      <td>1987-12-08</td>\n",
       "      <td>Erika</td>\n",
       "      <td>egleder1@newsvine.com</td>\n",
       "      <td>1982-09-13</td>\n",
       "      <td>311</td>\n",
       "    </tr>\n",
       "    <tr>\n",
       "      <th>198</th>\n",
       "      <td>199</td>\n",
       "      <td>61</td>\n",
       "      <td>5</td>\n",
       "      <td>2.05</td>\n",
       "      <td>2015-02-13</td>\n",
       "      <td>Collin</td>\n",
       "      <td>cgraffham4@japanpost.jp</td>\n",
       "      <td>1972-11-26</td>\n",
       "      <td>599</td>\n",
       "    </tr>\n",
       "    <tr>\n",
       "      <th>199</th>\n",
       "      <td>200</td>\n",
       "      <td>38</td>\n",
       "      <td>2</td>\n",
       "      <td>8.04</td>\n",
       "      <td>1997-08-21</td>\n",
       "      <td>Erika</td>\n",
       "      <td>egleder1@newsvine.com</td>\n",
       "      <td>1982-09-13</td>\n",
       "      <td>311</td>\n",
       "    </tr>\n",
       "  </tbody>\n",
       "</table>\n",
       "<p>200 rows × 9 columns</p>\n",
       "</div>"
      ],
      "text/plain": [
       "     ORDERID  CUSTOMERID  WAITERID   TIP MONTH_AND_DATE      NAME  \\\n",
       "0          1          74         2  6.92     1975-10-25     Erika   \n",
       "1          2          97         5  3.92     1986-06-22    Collin   \n",
       "2          3          91         3  9.05     1985-01-23   Auberon   \n",
       "3          4          26         6  8.78     2008-10-27      Dari   \n",
       "4          5          46         4  6.12     2003-09-09  Kingsley   \n",
       "..       ...         ...       ...   ...            ...       ...   \n",
       "195      196          28         5  6.28     1988-09-27    Collin   \n",
       "196      197          62         1  1.68     2017-10-24      Sean   \n",
       "197      198          38         2  2.60     1987-12-08     Erika   \n",
       "198      199          61         5  2.05     2015-02-13    Collin   \n",
       "199      200          38         2  8.04     1997-08-21     Erika   \n",
       "\n",
       "                           EMAIL        DOB  PERIOD_OF_SERVICE  \n",
       "0          egleder1@newsvine.com 1982-09-13                311  \n",
       "1        cgraffham4@japanpost.jp 1972-11-26                599  \n",
       "2              agreep2@wiley.com 1961-08-31                100  \n",
       "3         dslinn5@purevolume.com 1993-04-08                425  \n",
       "4    kandreuzzi3@studiopress.com 1970-05-19                700  \n",
       "..                           ...        ...                ...  \n",
       "195      cgraffham4@japanpost.jp 1972-11-26                599  \n",
       "196           sgrima0@sphinn.com 1990-04-09                521  \n",
       "197        egleder1@newsvine.com 1982-09-13                311  \n",
       "198      cgraffham4@japanpost.jp 1972-11-26                599  \n",
       "199        egleder1@newsvine.com 1982-09-13                311  \n",
       "\n",
       "[200 rows x 9 columns]"
      ]
     },
     "execution_count": 42,
     "metadata": {},
     "output_type": "execute_result"
    }
   ],
   "source": [
    "merged=orders.merge(waiters, on='WAITERID', how='left')\n",
    "merged"
   ]
  },
  {
   "cell_type": "code",
   "execution_count": 43,
   "id": "2f05f45f",
   "metadata": {},
   "outputs": [
    {
     "data": {
      "text/html": [
       "<div>\n",
       "<style scoped>\n",
       "    .dataframe tbody tr th:only-of-type {\n",
       "        vertical-align: middle;\n",
       "    }\n",
       "\n",
       "    .dataframe tbody tr th {\n",
       "        vertical-align: top;\n",
       "    }\n",
       "\n",
       "    .dataframe thead th {\n",
       "        text-align: right;\n",
       "    }\n",
       "</style>\n",
       "<table border=\"1\" class=\"dataframe\">\n",
       "  <thead>\n",
       "    <tr style=\"text-align: right;\">\n",
       "      <th></th>\n",
       "      <th>WAITERID</th>\n",
       "      <th>NAME</th>\n",
       "      <th>ORDERID</th>\n",
       "      <th>CUSTOMERID</th>\n",
       "      <th>TIP</th>\n",
       "      <th>PERIOD_OF_SERVICE</th>\n",
       "    </tr>\n",
       "  </thead>\n",
       "  <tbody>\n",
       "    <tr>\n",
       "      <th>0</th>\n",
       "      <td>1</td>\n",
       "      <td>Sean</td>\n",
       "      <td>2914</td>\n",
       "      <td>1348</td>\n",
       "      <td>146.06</td>\n",
       "      <td>14588</td>\n",
       "    </tr>\n",
       "    <tr>\n",
       "      <th>1</th>\n",
       "      <td>2</td>\n",
       "      <td>Erika</td>\n",
       "      <td>3751</td>\n",
       "      <td>1546</td>\n",
       "      <td>165.90</td>\n",
       "      <td>10263</td>\n",
       "    </tr>\n",
       "    <tr>\n",
       "      <th>2</th>\n",
       "      <td>3</td>\n",
       "      <td>Auberon</td>\n",
       "      <td>1924</td>\n",
       "      <td>1235</td>\n",
       "      <td>136.95</td>\n",
       "      <td>2300</td>\n",
       "    </tr>\n",
       "    <tr>\n",
       "      <th>3</th>\n",
       "      <td>4</td>\n",
       "      <td>Kingsley</td>\n",
       "      <td>3017</td>\n",
       "      <td>1824</td>\n",
       "      <td>172.53</td>\n",
       "      <td>21700</td>\n",
       "    </tr>\n",
       "    <tr>\n",
       "      <th>4</th>\n",
       "      <td>5</td>\n",
       "      <td>Collin</td>\n",
       "      <td>4381</td>\n",
       "      <td>2438</td>\n",
       "      <td>216.51</td>\n",
       "      <td>26356</td>\n",
       "    </tr>\n",
       "    <tr>\n",
       "      <th>5</th>\n",
       "      <td>6</td>\n",
       "      <td>Dari</td>\n",
       "      <td>1760</td>\n",
       "      <td>1065</td>\n",
       "      <td>110.75</td>\n",
       "      <td>8500</td>\n",
       "    </tr>\n",
       "    <tr>\n",
       "      <th>6</th>\n",
       "      <td>7</td>\n",
       "      <td>Donovan</td>\n",
       "      <td>2353</td>\n",
       "      <td>982</td>\n",
       "      <td>107.11</td>\n",
       "      <td>2835</td>\n",
       "    </tr>\n",
       "  </tbody>\n",
       "</table>\n",
       "</div>"
      ],
      "text/plain": [
       "   WAITERID      NAME  ORDERID  CUSTOMERID     TIP  PERIOD_OF_SERVICE\n",
       "0         1      Sean     2914        1348  146.06              14588\n",
       "1         2     Erika     3751        1546  165.90              10263\n",
       "2         3   Auberon     1924        1235  136.95               2300\n",
       "3         4  Kingsley     3017        1824  172.53              21700\n",
       "4         5    Collin     4381        2438  216.51              26356\n",
       "5         6      Dari     1760        1065  110.75               8500\n",
       "6         7   Donovan     2353         982  107.11               2835"
      ]
     },
     "execution_count": 43,
     "metadata": {},
     "output_type": "execute_result"
    }
   ],
   "source": [
    "# grouping on wiater id, adding new column, plotting tip\n",
    "grouped=merged.groupby(['WAITERID','NAME']).sum().reset_index()\n",
    "grouped"
   ]
  },
  {
   "cell_type": "code",
   "execution_count": 44,
   "id": "fce5d2ac",
   "metadata": {},
   "outputs": [
    {
     "data": {
      "image/png": "[encoded data removed]",
      "text/plain": [
       "<Figure size 360x360 with 1 Axes>"
      ]
     },
     "metadata": {},
     "output_type": "display_data"
    }
   ],
   "source": [
    "#Scatter plot for waiter id and the tip \n",
    "import matplotlib.pyplot as plt\n",
    "plt.scatter(x=grouped['NAME'], y=grouped['TIP'], color='purple')\n",
    "#ax.set_facecolor('white')\n",
    "plt.xlabel('Waiter ID')\n",
    "plt.ylabel('Total tip (in $)')\n",
    "plt.title('Tip and the Waiter Name')\n",
    "plt.show()"
   ]
  },
  {
   "cell_type": "code",
   "execution_count": 45,
   "id": "16e90d45",
   "metadata": {},
   "outputs": [
    {
     "data": {
      "text/plain": [
       "Text(0.5, 1.0, 'Count of orders taken')"
      ]
     },
     "execution_count": 45,
     "metadata": {},
     "output_type": "execute_result"
    },
    {
     "data": {
      "image/png": "[encoded data removed]",
      "text/plain": [
       "<Figure size 360x360 with 1 Axes>"
      ]
     },
     "metadata": {},
     "output_type": "display_data"
    }
   ],
   "source": [
    "#how many times a waiter has taken order\n",
    "import seaborn as sns\n",
    "a=sns.countplot(data=orders, x=\"WAITERID\")\n",
    "for p in a.patches:\n",
    "   a.annotate('{:.1f}'.format(p.get_height()), (p.get_x()+0.25, p.get_height()+0.01))\n",
    "a.set_title('Count of orders taken')"
   ]
  },
  {
   "cell_type": "code",
   "execution_count": 46,
   "id": "9654e4fe",
   "metadata": {},
   "outputs": [
    {
     "data": {
      "application/vnd.plotly.v1+json": {
       "config": {
        "plotlyServerURL": "https://plot.ly"
       },
       "data": [
        {
         "marker": {
          "size": [
           40,
           60,
           80,
           100,
           120,
           140,
           160
          ]
         },
         "mode": "markers",
         "type": "scatter",
         "x": [
          "Erika",
          "Collin",
          "Auberon",
          "Dari",
          "Kingsley",
          "Dari",
          "Collin",
          "Auberon",
          "Dari",
          "Collin",
          "Dari",
          "Auberon",
          "Auberon",
          "Kingsley",
          "Auberon",
          "Donovan",
          "Collin",
          "Dari",
          "Collin",
          "Collin",
          "Kingsley",
          "Sean",
          "Auberon",
          "Kingsley",
          "Collin",
          "Kingsley",
          "Collin",
          "Auberon",
          "Collin",
          "Dari",
          "Sean",
          "Auberon",
          "Kingsley",
          "Erika",
          "Sean",
          "Collin",
          "Auberon",
          "Collin",
          "Auberon",
          "Kingsley",
          "Dari",
          "Kingsley",
          "Kingsley",
          "Sean",
          "Donovan",
          "Collin",
          "Collin",
          "Sean",
          "Sean",
          "Collin",
          "Dari",
          "Donovan",
          "Erika",
          "Collin",
          "Sean",
          "Sean",
          "Collin",
          "Erika",
          "Donovan",
          "Erika",
          "Erika",
          "Sean",
          "Kingsley",
          "Erika",
          "Erika",
          "Auberon",
          "Collin",
          "Collin",
          "Kingsley",
          "Erika",
          "Donovan",
          "Sean",
          "Auberon",
          "Kingsley",
          "Collin",
          "Kingsley",
          "Sean",
          "Sean",
          "Donovan",
          "Sean",
          "Auberon",
          "Erika",
          "Dari",
          "Donovan",
          "Kingsley",
          "Donovan",
          "Dari",
          "Kingsley",
          "Kingsley",
          "Kingsley",
          "Erika",
          "Erika",
          "Erika",
          "Sean",
          "Collin",
          "Dari",
          "Kingsley",
          "Kingsley",
          "Donovan",
          "Erika",
          "Kingsley",
          "Erika",
          "Collin",
          "Sean",
          "Erika",
          "Erika",
          "Dari",
          "Dari",
          "Donovan",
          "Donovan",
          "Collin",
          "Sean",
          "Collin",
          "Collin",
          "Donovan",
          "Sean",
          "Dari",
          "Collin",
          "Auberon",
          "Auberon",
          "Donovan",
          "Collin",
          "Auberon",
          "Collin",
          "Erika",
          "Sean",
          "Collin",
          "Kingsley",
          "Sean",
          "Sean",
          "Donovan",
          "Kingsley",
          "Erika",
          "Dari",
          "Donovan",
          "Collin",
          "Erika",
          "Collin",
          "Erika",
          "Erika",
          "Collin",
          "Erika",
          "Collin",
          "Erika",
          "Collin",
          "Sean",
          "Auberon",
          "Kingsley",
          "Erika",
          "Collin",
          "Donovan",
          "Dari",
          "Auberon",
          "Collin",
          "Auberon",
          "Auberon",
          "Erika",
          "Erika",
          "Collin",
          "Donovan",
          "Erika",
          "Auberon",
          "Dari",
          "Auberon",
          "Sean",
          "Kingsley",
          "Sean",
          "Erika",
          "Dari",
          "Kingsley",
          "Kingsley",
          "Sean",
          "Sean",
          "Donovan",
          "Kingsley",
          "Collin",
          "Collin",
          "Donovan",
          "Erika",
          "Kingsley",
          "Dari",
          "Collin",
          "Kingsley",
          "Erika",
          "Sean",
          "Collin",
          "Collin",
          "Donovan",
          "Sean",
          "Donovan",
          "Collin",
          "Kingsley",
          "Dari",
          "Kingsley",
          "Auberon",
          "Collin",
          "Sean",
          "Erika",
          "Collin",
          "Erika"
         ],
         "y": [
          6.92,
          3.92,
          9.05,
          8.78,
          6.12,
          1.58,
          8.93,
          6.53,
          4.01,
          8.54,
          5.35,
          6.14,
          3.46,
          7.97,
          8.26,
          7.22,
          6.52,
          5.57,
          8.18,
          2.58,
          5.65,
          2.11,
          9.53,
          9.11,
          5.5,
          2.68,
          1.26,
          9.82,
          3.08,
          1.95,
          4.23,
          9.74,
          2.76,
          2.51,
          9.08,
          5.2,
          3.85,
          4.69,
          2.82,
          7.86,
          4.08,
          1.95,
          8.69,
          3.97,
          6.35,
          7.19,
          7.47,
          7.02,
          6.49,
          1.47,
          4.01,
          5.59,
          1.8,
          8.42,
          6.71,
          4.76,
          2.46,
          1.86,
          4.82,
          8.69,
          8.31,
          1.28,
          2.68,
          5.98,
          6.42,
          5.08,
          1.51,
          2.36,
          9.27,
          7.12,
          8.8,
          1.97,
          2.31,
          1.59,
          3.56,
          7.89,
          6.22,
          7.25,
          7.58,
          7.62,
          1.86,
          4.42,
          8.33,
          3.86,
          5.61,
          3.51,
          5.23,
          1.91,
          8.39,
          4.67,
          9.21,
          3.91,
          3.27,
          4.52,
          4.23,
          2.24,
          1.56,
          4.72,
          1.51,
          3.76,
          9.78,
          2.83,
          5.56,
          1.36,
          9.26,
          8.01,
          2.95,
          7.81,
          8.44,
          8.88,
          8.68,
          3.91,
          5.84,
          5.55,
          3.66,
          2.15,
          6.25,
          2.19,
          7.21,
          8.86,
          4.56,
          6.25,
          5.89,
          8.21,
          3.84,
          8.72,
          1.32,
          5.58,
          9.29,
          8.26,
          4.98,
          7.36,
          3.38,
          8.98,
          5.26,
          2.91,
          4.52,
          4.68,
          5.21,
          1.52,
          8.24,
          7.2,
          4.32,
          2.63,
          5.19,
          5.52,
          7.63,
          1.77,
          9.38,
          4.73,
          3.63,
          8.56,
          3.8,
          4.15,
          6.25,
          3.55,
          4.69,
          2.59,
          7.34,
          5.87,
          7.04,
          9.7,
          5.37,
          2.99,
          5.87,
          1.72,
          1.7,
          3.47,
          7.27,
          7.91,
          3.29,
          9.88,
          1.31,
          2.75,
          6.92,
          8.97,
          5.5,
          2.11,
          4.03,
          1.73,
          6.53,
          1.87,
          8.78,
          1.48,
          5.31,
          1.85,
          5.02,
          4.03,
          7.87,
          3.7,
          2.74,
          8.32,
          5.9,
          8.29,
          2.62,
          6.28,
          1.68,
          2.6,
          2.05,
          8.04
         ]
        }
       ],
       "layout": {
        "template": {
         "data": {
          "bar": [
           {
            "error_x": {
             "color": "#2a3f5f"
            },
            "error_y": {
             "color": "#2a3f5f"
            },
            "marker": {
             "line": {
              "color": "#E5ECF6",
              "width": 0.5
             },
             "pattern": {
              "fillmode": "overlay",
              "size": 10,
              "solidity": 0.2
             }
            },
            "type": "bar"
           }
          ],
          "barpolar": [
           {
            "marker": {
             "line": {
              "color": "#E5ECF6",
              "width": 0.5
             },
             "pattern": {
              "fillmode": "overlay",
              "size": 10,
              "solidity": 0.2
             }
            },
            "type": "barpolar"
           }
          ],
          "carpet": [
           {
            "aaxis": {
             "endlinecolor": "#2a3f5f",
             "gridcolor": "white",
             "linecolor": "white",
             "minorgridcolor": "white",
             "startlinecolor": "#2a3f5f"
            },
            "baxis": {
             "endlinecolor": "#2a3f5f",
             "gridcolor": "white",
             "linecolor": "white",
             "minorgridcolor": "white",
             "startlinecolor": "#2a3f5f"
            },
            "type": "carpet"
           }
          ],
          "choropleth": [
           {
            "colorbar": {
             "outlinewidth": 0,
             "ticks": ""
            },
            "type": "choropleth"
           }
          ],
          "contour": [
           {
            "colorbar": {
             "outlinewidth": 0,
             "ticks": ""
            },
            "colorscale": [
             [
              0,
              "#0d0887"
             ],
             [
              0.1111111111111111,
              "#46039f"
             ],
             [
              0.2222222222222222,
              "#7201a8"
             ],
             [
              0.3333333333333333,
              "#9c179e"
             ],
             [
              0.4444444444444444,
              "#bd3786"
             ],
             [
              0.5555555555555556,
              "#d8576b"
             ],
             [
              0.6666666666666666,
              "#ed7953"
             ],
             [
              0.7777777777777778,
              "#fb9f3a"
             ],
             [
              0.8888888888888888,
              "#fdca26"
             ],
             [
              1,
              "#f0f921"
             ]
            ],
            "type": "contour"
           }
          ],
          "contourcarpet": [
           {
            "colorbar": {
             "outlinewidth": 0,
             "ticks": ""
            },
            "type": "contourcarpet"
           }
          ],
          "heatmap": [
           {
            "colorbar": {
             "outlinewidth": 0,
             "ticks": ""
            },
            "colorscale": [
             [
              0,
              "#0d0887"
             ],
             [
              0.1111111111111111,
              "#46039f"
             ],
             [
              0.2222222222222222,
              "#7201a8"
             ],
             [
              0.3333333333333333,
              "#9c179e"
             ],
             [
              0.4444444444444444,
              "#bd3786"
             ],
             [
              0.5555555555555556,
              "#d8576b"
             ],
             [
              0.6666666666666666,
              "#ed7953"
             ],
             [
              0.7777777777777778,
              "#fb9f3a"
             ],
             [
              0.8888888888888888,
              "#fdca26"
             ],
             [
              1,
              "#f0f921"
             ]
            ],
            "type": "heatmap"
           }
          ],
          "heatmapgl": [
           {
            "colorbar": {
             "outlinewidth": 0,
             "ticks": ""
            },
            "colorscale": [
             [
              0,
              "#0d0887"
             ],
             [
              0.1111111111111111,
              "#46039f"
             ],
             [
              0.2222222222222222,
              "#7201a8"
             ],
             [
              0.3333333333333333,
              "#9c179e"
             ],
             [
              0.4444444444444444,
              "#bd3786"
             ],
             [
              0.5555555555555556,
              "#d8576b"
             ],
             [
              0.6666666666666666,
              "#ed7953"
             ],
             [
              0.7777777777777778,
              "#fb9f3a"
             ],
             [
              0.8888888888888888,
              "#fdca26"
             ],
             [
              1,
              "#f0f921"
             ]
            ],
            "type": "heatmapgl"
           }
          ],
          "histogram": [
           {
            "marker": {
             "pattern": {
              "fillmode": "overlay",
              "size": 10,
              "solidity": 0.2
             }
            },
            "type": "histogram"
           }
          ],
          "histogram2d": [
           {
            "colorbar": {
             "outlinewidth": 0,
             "ticks": ""
            },
            "colorscale": [
             [
              0,
              "#0d0887"
             ],
             [
              0.1111111111111111,
              "#46039f"
             ],
             [
              0.2222222222222222,
              "#7201a8"
             ],
             [
              0.3333333333333333,
              "#9c179e"
             ],
             [
              0.4444444444444444,
              "#bd3786"
             ],
             [
              0.5555555555555556,
              "#d8576b"
             ],
             [
              0.6666666666666666,
              "#ed7953"
             ],
             [
              0.7777777777777778,
              "#fb9f3a"
             ],
             [
              0.8888888888888888,
              "#fdca26"
             ],
             [
              1,
              "#f0f921"
             ]
            ],
            "type": "histogram2d"
           }
          ],
          "histogram2dcontour": [
           {
            "colorbar": {
             "outlinewidth": 0,
             "ticks": ""
            },
            "colorscale": [
             [
              0,
              "#0d0887"
             ],
             [
              0.1111111111111111,
              "#46039f"
             ],
             [
              0.2222222222222222,
              "#7201a8"
             ],
             [
              0.3333333333333333,
              "#9c179e"
             ],
             [
              0.4444444444444444,
              "#bd3786"
             ],
             [
              0.5555555555555556,
              "#d8576b"
             ],
             [
              0.6666666666666666,
              "#ed7953"
             ],
             [
              0.7777777777777778,
              "#fb9f3a"
             ],
             [
              0.8888888888888888,
              "#fdca26"
             ],
             [
              1,
              "#f0f921"
             ]
            ],
            "type": "histogram2dcontour"
           }
          ],
          "mesh3d": [
           {
            "colorbar": {
             "outlinewidth": 0,
             "ticks": ""
            },
            "type": "mesh3d"
           }
          ],
          "parcoords": [
           {
            "line": {
             "colorbar": {
              "outlinewidth": 0,
              "ticks": ""
             }
            },
            "type": "parcoords"
           }
          ],
          "pie": [
           {
            "automargin": true,
            "type": "pie"
           }
          ],
          "scatter": [
           {
            "fillpattern": {
             "fillmode": "overlay",
             "size": 10,
             "solidity": 0.2
            },
            "type": "scatter"
           }
          ],
          "scatter3d": [
           {
            "line": {
             "colorbar": {
              "outlinewidth": 0,
              "ticks": ""
             }
            },
            "marker": {
             "colorbar": {
              "outlinewidth": 0,
              "ticks": ""
             }
            },
            "type": "scatter3d"
           }
          ],
          "scattercarpet": [
           {
            "marker": {
             "colorbar": {
              "outlinewidth": 0,
              "ticks": ""
             }
            },
            "type": "scattercarpet"
           }
          ],
          "scattergeo": [
           {
            "marker": {
             "colorbar": {
              "outlinewidth": 0,
              "ticks": ""
             }
            },
            "type": "scattergeo"
           }
          ],
          "scattergl": [
           {
            "marker": {
             "colorbar": {
              "outlinewidth": 0,
              "ticks": ""
             }
            },
            "type": "scattergl"
           }
          ],
          "scattermapbox": [
           {
            "marker": {
             "colorbar": {
              "outlinewidth": 0,
              "ticks": ""
             }
            },
            "type": "scattermapbox"
           }
          ],
          "scatterpolar": [
           {
            "marker": {
             "colorbar": {
              "outlinewidth": 0,
              "ticks": ""
             }
            },
            "type": "scatterpolar"
           }
          ],
          "scatterpolargl": [
           {
            "marker": {
             "colorbar": {
              "outlinewidth": 0,
              "ticks": ""
             }
            },
            "type": "scatterpolargl"
           }
          ],
          "scatterternary": [
           {
            "marker": {
             "colorbar": {
              "outlinewidth": 0,
              "ticks": ""
             }
            },
            "type": "scatterternary"
           }
          ],
          "surface": [
           {
            "colorbar": {
             "outlinewidth": 0,
             "ticks": ""
            },
            "colorscale": [
             [
              0,
              "#0d0887"
             ],
             [
              0.1111111111111111,
              "#46039f"
             ],
             [
              0.2222222222222222,
              "#7201a8"
             ],
             [
              0.3333333333333333,
              "#9c179e"
             ],
             [
              0.4444444444444444,
              "#bd3786"
             ],
             [
              0.5555555555555556,
              "#d8576b"
             ],
             [
              0.6666666666666666,
              "#ed7953"
             ],
             [
              0.7777777777777778,
              "#fb9f3a"
             ],
             [
              0.8888888888888888,
              "#fdca26"
             ],
             [
              1,
              "#f0f921"
             ]
            ],
            "type": "surface"
           }
          ],
          "table": [
           {
            "cells": {
             "fill": {
              "color": "#EBF0F8"
             },
             "line": {
              "color": "white"
             }
            },
            "header": {
             "fill": {
              "color": "#C8D4E3"
             },
             "line": {
              "color": "white"
             }
            },
            "type": "table"
           }
          ]
         },
         "layout": {
          "annotationdefaults": {
           "arrowcolor": "#2a3f5f",
           "arrowhead": 0,
           "arrowwidth": 1
          },
          "autotypenumbers": "strict",
          "coloraxis": {
           "colorbar": {
            "outlinewidth": 0,
            "ticks": ""
           }
          },
          "colorscale": {
           "diverging": [
            [
             0,
             "#8e0152"
            ],
            [
             0.1,
             "#c51b7d"
            ],
            [
             0.2,
             "#de77ae"
            ],
            [
             0.3,
             "#f1b6da"
            ],
            [
             0.4,
             "#fde0ef"
            ],
            [
             0.5,
             "#f7f7f7"
            ],
            [
             0.6,
             "#e6f5d0"
            ],
            [
             0.7,
             "#b8e186"
            ],
            [
             0.8,
             "#7fbc41"
            ],
            [
             0.9,
             "#4d9221"
            ],
            [
             1,
             "#276419"
            ]
           ],
           "sequential": [
            [
             0,
             "#0d0887"
            ],
            [
             0.1111111111111111,
             "#46039f"
            ],
            [
             0.2222222222222222,
             "#7201a8"
            ],
            [
             0.3333333333333333,
             "#9c179e"
            ],
            [
             0.4444444444444444,
             "#bd3786"
            ],
            [
             0.5555555555555556,
             "#d8576b"
            ],
            [
             0.6666666666666666,
             "#ed7953"
            ],
            [
             0.7777777777777778,
             "#fb9f3a"
            ],
            [
             0.8888888888888888,
             "#fdca26"
            ],
            [
             1,
             "#f0f921"
            ]
           ],
           "sequentialminus": [
            [
             0,
             "#0d0887"
            ],
            [
             0.1111111111111111,
             "#46039f"
            ],
            [
             0.2222222222222222,
             "#7201a8"
            ],
            [
             0.3333333333333333,
             "#9c179e"
            ],
            [
             0.4444444444444444,
             "#bd3786"
            ],
            [
             0.5555555555555556,
             "#d8576b"
            ],
            [
             0.6666666666666666,
             "#ed7953"
            ],
            [
             0.7777777777777778,
             "#fb9f3a"
            ],
            [
             0.8888888888888888,
             "#fdca26"
            ],
            [
             1,
             "#f0f921"
            ]
           ]
          },
          "colorway": [
           "#636efa",
           "#EF553B",
           "#00cc96",
           "#ab63fa",
           "#FFA15A",
           "#19d3f3",
           "#FF6692",
           "#B6E880",
           "#FF97FF",
           "#FECB52"
          ],
          "font": {
           "color": "#2a3f5f"
          },
          "geo": {
           "bgcolor": "white",
           "lakecolor": "white",
           "landcolor": "#E5ECF6",
           "showlakes": true,
           "showland": true,
           "subunitcolor": "white"
          },
          "hoverlabel": {
           "align": "left"
          },
          "hovermode": "closest",
          "mapbox": {
           "style": "light"
          },
          "paper_bgcolor": "white",
          "plot_bgcolor": "#E5ECF6",
          "polar": {
           "angularaxis": {
            "gridcolor": "white",
            "linecolor": "white",
            "ticks": ""
           },
           "bgcolor": "#E5ECF6",
           "radialaxis": {
            "gridcolor": "white",
            "linecolor": "white",
            "ticks": ""
           }
          },
          "scene": {
           "xaxis": {
            "backgroundcolor": "#E5ECF6",
            "gridcolor": "white",
            "gridwidth": 2,
            "linecolor": "white",
            "showbackground": true,
            "ticks": "",
            "zerolinecolor": "white"
           },
           "yaxis": {
            "backgroundcolor": "#E5ECF6",
            "gridcolor": "white",
            "gridwidth": 2,
            "linecolor": "white",
            "showbackground": true,
            "ticks": "",
            "zerolinecolor": "white"
           },
           "zaxis": {
            "backgroundcolor": "#E5ECF6",
            "gridcolor": "white",
            "gridwidth": 2,
            "linecolor": "white",
            "showbackground": true,
            "ticks": "",
            "zerolinecolor": "white"
           }
          },
          "shapedefaults": {
           "line": {
            "color": "#2a3f5f"
           }
          },
          "ternary": {
           "aaxis": {
            "gridcolor": "white",
            "linecolor": "white",
            "ticks": ""
           },
           "baxis": {
            "gridcolor": "white",
            "linecolor": "white",
            "ticks": ""
           },
           "bgcolor": "#E5ECF6",
           "caxis": {
            "gridcolor": "white",
            "linecolor": "white",
            "ticks": ""
           }
          },
          "title": {
           "x": 0.05
          },
          "xaxis": {
           "automargin": true,
           "gridcolor": "white",
           "linecolor": "white",
           "ticks": "",
           "title": {
            "standoff": 15
           },
           "zerolinecolor": "white",
           "zerolinewidth": 2
          },
          "yaxis": {
           "automargin": true,
           "gridcolor": "white",
           "linecolor": "white",
           "ticks": "",
           "title": {
            "standoff": 15
           },
           "zerolinecolor": "white",
           "zerolinewidth": 2
          }
         }
        }
       }
      },
      "text/html": [
       "<div>                            <div id=\"2db108c3-2b7c-4fe8-ba05-c8711a78160d\" class=\"plotly-graph-div\" style=\"height:525px; width:100%;\"></div>            <script type=\"text/javascript\">                require([\"plotly\"], function(Plotly) {                    window.PLOTLYENV=window.PLOTLYENV || {};                                    if (document.getElementById(\"2db108c3-2b7c-4fe8-ba05-c8711a78160d\")) {                    Plotly.newPlot(                        \"2db108c3-2b7c-4fe8-ba05-c8711a78160d\",                        [{\"marker\":{\"size\":[40,60,80,100,120,140,160]},\"mode\":\"markers\",\"x\":[\"Erika\",\"Collin\",\"Auberon\",\"Dari\",\"Kingsley\",\"Dari\",\"Collin\",\"Auberon\",\"Dari\",\"Collin\",\"Dari\",\"Auberon\",\"Auberon\",\"Kingsley\",\"Auberon\",\"Donovan\",\"Collin\",\"Dari\",\"Collin\",\"Collin\",\"Kingsley\",\"Sean\",\"Auberon\",\"Kingsley\",\"Collin\",\"Kingsley\",\"Collin\",\"Auberon\",\"Collin\",\"Dari\",\"Sean\",\"Auberon\",\"Kingsley\",\"Erika\",\"Sean\",\"Collin\",\"Auberon\",\"Collin\",\"Auberon\",\"Kingsley\",\"Dari\",\"Kingsley\",\"Kingsley\",\"Sean\",\"Donovan\",\"Collin\",\"Collin\",\"Sean\",\"Sean\",\"Collin\",\"Dari\",\"Donovan\",\"Erika\",\"Collin\",\"Sean\",\"Sean\",\"Collin\",\"Erika\",\"Donovan\",\"Erika\",\"Erika\",\"Sean\",\"Kingsley\",\"Erika\",\"Erika\",\"Auberon\",\"Collin\",\"Collin\",\"Kingsley\",\"Erika\",\"Donovan\",\"Sean\",\"Auberon\",\"Kingsley\",\"Collin\",\"Kingsley\",\"Sean\",\"Sean\",\"Donovan\",\"Sean\",\"Auberon\",\"Erika\",\"Dari\",\"Donovan\",\"Kingsley\",\"Donovan\",\"Dari\",\"Kingsley\",\"Kingsley\",\"Kingsley\",\"Erika\",\"Erika\",\"Erika\",\"Sean\",\"Collin\",\"Dari\",\"Kingsley\",\"Kingsley\",\"Donovan\",\"Erika\",\"Kingsley\",\"Erika\",\"Collin\",\"Sean\",\"Erika\",\"Erika\",\"Dari\",\"Dari\",\"Donovan\",\"Donovan\",\"Collin\",\"Sean\",\"Collin\",\"Collin\",\"Donovan\",\"Sean\",\"Dari\",\"Collin\",\"Auberon\",\"Auberon\",\"Donovan\",\"Collin\",\"Auberon\",\"Collin\",\"Erika\",\"Sean\",\"Collin\",\"Kingsley\",\"Sean\",\"Sean\",\"Donovan\",\"Kingsley\",\"Erika\",\"Dari\",\"Donovan\",\"Collin\",\"Erika\",\"Collin\",\"Erika\",\"Erika\",\"Collin\",\"Erika\",\"Collin\",\"Erika\",\"Collin\",\"Sean\",\"Auberon\",\"Kingsley\",\"Erika\",\"Collin\",\"Donovan\",\"Dari\",\"Auberon\",\"Collin\",\"Auberon\",\"Auberon\",\"Erika\",\"Erika\",\"Collin\",\"Donovan\",\"Erika\",\"Auberon\",\"Dari\",\"Auberon\",\"Sean\",\"Kingsley\",\"Sean\",\"Erika\",\"Dari\",\"Kingsley\",\"Kingsley\",\"Sean\",\"Sean\",\"Donovan\",\"Kingsley\",\"Collin\",\"Collin\",\"Donovan\",\"Erika\",\"Kingsley\",\"Dari\",\"Collin\",\"Kingsley\",\"Erika\",\"Sean\",\"Collin\",\"Collin\",\"Donovan\",\"Sean\",\"Donovan\",\"Collin\",\"Kingsley\",\"Dari\",\"Kingsley\",\"Auberon\",\"Collin\",\"Sean\",\"Erika\",\"Collin\",\"Erika\"],\"y\":[6.92,3.92,9.05,8.78,6.12,1.58,8.93,6.53,4.01,8.54,5.35,6.14,3.46,7.97,8.26,7.22,6.52,5.57,8.18,2.58,5.65,2.11,9.53,9.11,5.5,2.68,1.26,9.82,3.08,1.95,4.23,9.74,2.76,2.51,9.08,5.2,3.85,4.69,2.82,7.86,4.08,1.95,8.69,3.97,6.35,7.19,7.47,7.02,6.49,1.47,4.01,5.59,1.8,8.42,6.71,4.76,2.46,1.86,4.82,8.69,8.31,1.28,2.68,5.98,6.42,5.08,1.51,2.36,9.27,7.12,8.8,1.97,2.31,1.59,3.56,7.89,6.22,7.25,7.58,7.62,1.86,4.42,8.33,3.86,5.61,3.51,5.23,1.91,8.39,4.67,9.21,3.91,3.27,4.52,4.23,2.24,1.56,4.72,1.51,3.76,9.78,2.83,5.56,1.36,9.26,8.01,2.95,7.81,8.44,8.88,8.68,3.91,5.84,5.55,3.66,2.15,6.25,2.19,7.21,8.86,4.56,6.25,5.89,8.21,3.84,8.72,1.32,5.58,9.29,8.26,4.98,7.36,3.38,8.98,5.26,2.91,4.52,4.68,5.21,1.52,8.24,7.2,4.32,2.63,5.19,5.52,7.63,1.77,9.38,4.73,3.63,8.56,3.8,4.15,6.25,3.55,4.69,2.59,7.34,5.87,7.04,9.7,5.37,2.99,5.87,1.72,1.7,3.47,7.27,7.91,3.29,9.88,1.31,2.75,6.92,8.97,5.5,2.11,4.03,1.73,6.53,1.87,8.78,1.48,5.31,1.85,5.02,4.03,7.87,3.7,2.74,8.32,5.9,8.29,2.62,6.28,1.68,2.6,2.05,8.04],\"type\":\"scatter\"}],                        {\"template\":{\"data\":{\"histogram2dcontour\":[{\"type\":\"histogram2dcontour\",\"colorbar\":{\"outlinewidth\":0,\"ticks\":\"\"},\"colorscale\":[[0.0,\"#0d0887\"],[0.1111111111111111,\"#46039f\"],[0.2222222222222222,\"#7201a8\"],[0.3333333333333333,\"#9c179e\"],[0.4444444444444444,\"#bd3786\"],[0.5555555555555556,\"#d8576b\"],[0.6666666666666666,\"#ed7953\"],[0.7777777777777778,\"#fb9f3a\"],[0.8888888888888888,\"#fdca26\"],[1.0,\"#f0f921\"]]}],\"choropleth\":[{\"type\":\"choropleth\",\"colorbar\":{\"outlinewidth\":0,\"ticks\":\"\"}}],\"histogram2d\":[{\"type\":\"histogram2d\",\"colorbar\":{\"outlinewidth\":0,\"ticks\":\"\"},\"colorscale\":[[0.0,\"#0d0887\"],[0.1111111111111111,\"#46039f\"],[0.2222222222222222,\"#7201a8\"],[0.3333333333333333,\"#9c179e\"],[0.4444444444444444,\"#bd3786\"],[0.5555555555555556,\"#d8576b\"],[0.6666666666666666,\"#ed7953\"],[0.7777777777777778,\"#fb9f3a\"],[0.8888888888888888,\"#fdca26\"],[1.0,\"#f0f921\"]]}],\"heatmap\":[{\"type\":\"heatmap\",\"colorbar\":{\"outlinewidth\":0,\"ticks\":\"\"},\"colorscale\":[[0.0,\"#0d0887\"],[0.1111111111111111,\"#46039f\"],[0.2222222222222222,\"#7201a8\"],[0.3333333333333333,\"#9c179e\"],[0.4444444444444444,\"#bd3786\"],[0.5555555555555556,\"#d8576b\"],[0.6666666666666666,\"#ed7953\"],[0.7777777777777778,\"#fb9f3a\"],[0.8888888888888888,\"#fdca26\"],[1.0,\"#f0f921\"]]}],\"heatmapgl\":[{\"type\":\"heatmapgl\",\"colorbar\":{\"outlinewidth\":0,\"ticks\":\"\"},\"colorscale\":[[0.0,\"#0d0887\"],[0.1111111111111111,\"#46039f\"],[0.2222222222222222,\"#7201a8\"],[0.3333333333333333,\"#9c179e\"],[0.4444444444444444,\"#bd3786\"],[0.5555555555555556,\"#d8576b\"],[0.6666666666666666,\"#ed7953\"],[0.7777777777777778,\"#fb9f3a\"],[0.8888888888888888,\"#fdca26\"],[1.0,\"#f0f921\"]]}],\"contourcarpet\":[{\"type\":\"contourcarpet\",\"colorbar\":{\"outlinewidth\":0,\"ticks\":\"\"}}],\"contour\":[{\"type\":\"contour\",\"colorbar\":{\"outlinewidth\":0,\"ticks\":\"\"},\"colorscale\":[[0.0,\"#0d0887\"],[0.1111111111111111,\"#46039f\"],[0.2222222222222222,\"#7201a8\"],[0.3333333333333333,\"#9c179e\"],[0.4444444444444444,\"#bd3786\"],[0.5555555555555556,\"#d8576b\"],[0.6666666666666666,\"#ed7953\"],[0.7777777777777778,\"#fb9f3a\"],[0.8888888888888888,\"#fdca26\"],[1.0,\"#f0f921\"]]}],\"surface\":[{\"type\":\"surface\",\"colorbar\":{\"outlinewidth\":0,\"ticks\":\"\"},\"colorscale\":[[0.0,\"#0d0887\"],[0.1111111111111111,\"#46039f\"],[0.2222222222222222,\"#7201a8\"],[0.3333333333333333,\"#9c179e\"],[0.4444444444444444,\"#bd3786\"],[0.5555555555555556,\"#d8576b\"],[0.6666666666666666,\"#ed7953\"],[0.7777777777777778,\"#fb9f3a\"],[0.8888888888888888,\"#fdca26\"],[1.0,\"#f0f921\"]]}],\"mesh3d\":[{\"type\":\"mesh3d\",\"colorbar\":{\"outlinewidth\":0,\"ticks\":\"\"}}],\"scatter\":[{\"fillpattern\":{\"fillmode\":\"overlay\",\"size\":10,\"solidity\":0.2},\"type\":\"scatter\"}],\"parcoords\":[{\"type\":\"parcoords\",\"line\":{\"colorbar\":{\"outlinewidth\":0,\"ticks\":\"\"}}}],\"scatterpolargl\":[{\"type\":\"scatterpolargl\",\"marker\":{\"colorbar\":{\"outlinewidth\":0,\"ticks\":\"\"}}}],\"bar\":[{\"error_x\":{\"color\":\"#2a3f5f\"},\"error_y\":{\"color\":\"#2a3f5f\"},\"marker\":{\"line\":{\"color\":\"#E5ECF6\",\"width\":0.5},\"pattern\":{\"fillmode\":\"overlay\",\"size\":10,\"solidity\":0.2}},\"type\":\"bar\"}],\"scattergeo\":[{\"type\":\"scattergeo\",\"marker\":{\"colorbar\":{\"outlinewidth\":0,\"ticks\":\"\"}}}],\"scatterpolar\":[{\"type\":\"scatterpolar\",\"marker\":{\"colorbar\":{\"outlinewidth\":0,\"ticks\":\"\"}}}],\"histogram\":[{\"marker\":{\"pattern\":{\"fillmode\":\"overlay\",\"size\":10,\"solidity\":0.2}},\"type\":\"histogram\"}],\"scattergl\":[{\"type\":\"scattergl\",\"marker\":{\"colorbar\":{\"outlinewidth\":0,\"ticks\":\"\"}}}],\"scatter3d\":[{\"type\":\"scatter3d\",\"line\":{\"colorbar\":{\"outlinewidth\":0,\"ticks\":\"\"}},\"marker\":{\"colorbar\":{\"outlinewidth\":0,\"ticks\":\"\"}}}],\"scattermapbox\":[{\"type\":\"scattermapbox\",\"marker\":{\"colorbar\":{\"outlinewidth\":0,\"ticks\":\"\"}}}],\"scatterternary\":[{\"type\":\"scatterternary\",\"marker\":{\"colorbar\":{\"outlinewidth\":0,\"ticks\":\"\"}}}],\"scattercarpet\":[{\"type\":\"scattercarpet\",\"marker\":{\"colorbar\":{\"outlinewidth\":0,\"ticks\":\"\"}}}],\"carpet\":[{\"aaxis\":{\"endlinecolor\":\"#2a3f5f\",\"gridcolor\":\"white\",\"linecolor\":\"white\",\"minorgridcolor\":\"white\",\"startlinecolor\":\"#2a3f5f\"},\"baxis\":{\"endlinecolor\":\"#2a3f5f\",\"gridcolor\":\"white\",\"linecolor\":\"white\",\"minorgridcolor\":\"white\",\"startlinecolor\":\"#2a3f5f\"},\"type\":\"carpet\"}],\"table\":[{\"cells\":{\"fill\":{\"color\":\"#EBF0F8\"},\"line\":{\"color\":\"white\"}},\"header\":{\"fill\":{\"color\":\"#C8D4E3\"},\"line\":{\"color\":\"white\"}},\"type\":\"table\"}],\"barpolar\":[{\"marker\":{\"line\":{\"color\":\"#E5ECF6\",\"width\":0.5},\"pattern\":{\"fillmode\":\"overlay\",\"size\":10,\"solidity\":0.2}},\"type\":\"barpolar\"}],\"pie\":[{\"automargin\":true,\"type\":\"pie\"}]},\"layout\":{\"autotypenumbers\":\"strict\",\"colorway\":[\"#636efa\",\"#EF553B\",\"#00cc96\",\"#ab63fa\",\"#FFA15A\",\"#19d3f3\",\"#FF6692\",\"#B6E880\",\"#FF97FF\",\"#FECB52\"],\"font\":{\"color\":\"#2a3f5f\"},\"hovermode\":\"closest\",\"hoverlabel\":{\"align\":\"left\"},\"paper_bgcolor\":\"white\",\"plot_bgcolor\":\"#E5ECF6\",\"polar\":{\"bgcolor\":\"#E5ECF6\",\"angularaxis\":{\"gridcolor\":\"white\",\"linecolor\":\"white\",\"ticks\":\"\"},\"radialaxis\":{\"gridcolor\":\"white\",\"linecolor\":\"white\",\"ticks\":\"\"}},\"ternary\":{\"bgcolor\":\"#E5ECF6\",\"aaxis\":{\"gridcolor\":\"white\",\"linecolor\":\"white\",\"ticks\":\"\"},\"baxis\":{\"gridcolor\":\"white\",\"linecolor\":\"white\",\"ticks\":\"\"},\"caxis\":{\"gridcolor\":\"white\",\"linecolor\":\"white\",\"ticks\":\"\"}},\"coloraxis\":{\"colorbar\":{\"outlinewidth\":0,\"ticks\":\"\"}},\"colorscale\":{\"sequential\":[[0.0,\"#0d0887\"],[0.1111111111111111,\"#46039f\"],[0.2222222222222222,\"#7201a8\"],[0.3333333333333333,\"#9c179e\"],[0.4444444444444444,\"#bd3786\"],[0.5555555555555556,\"#d8576b\"],[0.6666666666666666,\"#ed7953\"],[0.7777777777777778,\"#fb9f3a\"],[0.8888888888888888,\"#fdca26\"],[1.0,\"#f0f921\"]],\"sequentialminus\":[[0.0,\"#0d0887\"],[0.1111111111111111,\"#46039f\"],[0.2222222222222222,\"#7201a8\"],[0.3333333333333333,\"#9c179e\"],[0.4444444444444444,\"#bd3786\"],[0.5555555555555556,\"#d8576b\"],[0.6666666666666666,\"#ed7953\"],[0.7777777777777778,\"#fb9f3a\"],[0.8888888888888888,\"#fdca26\"],[1.0,\"#f0f921\"]],\"diverging\":[[0,\"#8e0152\"],[0.1,\"#c51b7d\"],[0.2,\"#de77ae\"],[0.3,\"#f1b6da\"],[0.4,\"#fde0ef\"],[0.5,\"#f7f7f7\"],[0.6,\"#e6f5d0\"],[0.7,\"#b8e186\"],[0.8,\"#7fbc41\"],[0.9,\"#4d9221\"],[1,\"#276419\"]]},\"xaxis\":{\"gridcolor\":\"white\",\"linecolor\":\"white\",\"ticks\":\"\",\"title\":{\"standoff\":15},\"zerolinecolor\":\"white\",\"automargin\":true,\"zerolinewidth\":2},\"yaxis\":{\"gridcolor\":\"white\",\"linecolor\":\"white\",\"ticks\":\"\",\"title\":{\"standoff\":15},\"zerolinecolor\":\"white\",\"automargin\":true,\"zerolinewidth\":2},\"scene\":{\"xaxis\":{\"backgroundcolor\":\"#E5ECF6\",\"gridcolor\":\"white\",\"linecolor\":\"white\",\"showbackground\":true,\"ticks\":\"\",\"zerolinecolor\":\"white\",\"gridwidth\":2},\"yaxis\":{\"backgroundcolor\":\"#E5ECF6\",\"gridcolor\":\"white\",\"linecolor\":\"white\",\"showbackground\":true,\"ticks\":\"\",\"zerolinecolor\":\"white\",\"gridwidth\":2},\"zaxis\":{\"backgroundcolor\":\"#E5ECF6\",\"gridcolor\":\"white\",\"linecolor\":\"white\",\"showbackground\":true,\"ticks\":\"\",\"zerolinecolor\":\"white\",\"gridwidth\":2}},\"shapedefaults\":{\"line\":{\"color\":\"#2a3f5f\"}},\"annotationdefaults\":{\"arrowcolor\":\"#2a3f5f\",\"arrowhead\":0,\"arrowwidth\":1},\"geo\":{\"bgcolor\":\"white\",\"landcolor\":\"#E5ECF6\",\"subunitcolor\":\"white\",\"showland\":true,\"showlakes\":true,\"lakecolor\":\"white\"},\"title\":{\"x\":0.05},\"mapbox\":{\"style\":\"light\"}}}},                        {\"responsive\": true}                    ).then(function(){\n",
       "                            \n",
       "var gd = document.getElementById('2db108c3-2b7c-4fe8-ba05-c8711a78160d');\n",
       "var x = new MutationObserver(function (mutations, observer) {{\n",
       "        var display = window.getComputedStyle(gd).display;\n",
       "        if (!display || display === 'none') {{\n",
       "            console.log([gd, 'removed!']);\n",
       "            Plotly.purge(gd);\n",
       "            observer.disconnect();\n",
       "        }}\n",
       "}});\n",
       "\n",
       "// Listen for the removal of the full notebook cells\n",
       "var notebookContainer = gd.closest('#notebook-container');\n",
       "if (notebookContainer) {{\n",
       "    x.observe(notebookContainer, {childList: true});\n",
       "}}\n",
       "\n",
       "// Listen for the clearing of the current output cell\n",
       "var outputEl = gd.closest('.output');\n",
       "if (outputEl) {{\n",
       "    x.observe(outputEl, {childList: true});\n",
       "}}\n",
       "\n",
       "                        })                };                });            </script>        </div>"
      ]
     },
     "metadata": {},
     "output_type": "display_data"
    }
   ],
   "source": [
    "import plotly.graph_objects as go\n",
    "\n",
    "fig = go.Figure(data=[go.Scatter(\n",
    "    x=merged['NAME'], y=merged['TIP'],\n",
    "    mode='markers',\n",
    "    marker_size=[40, 60, 80,100,120,140,160])\n",
    "])\n",
    "\n",
    "fig.show()"
   ]
  },
  {
   "cell_type": "code",
   "execution_count": 47,
   "id": "908d5bd9",
   "metadata": {},
   "outputs": [],
   "source": [
    "dishes['TYPEOFCUISINE']=dishes['TYPEOFCUISINE'].str.strip()"
   ]
  },
  {
   "cell_type": "code",
   "execution_count": 48,
   "id": "138183fa",
   "metadata": {},
   "outputs": [
    {
     "data": {
      "text/html": [
       "<div>\n",
       "<style scoped>\n",
       "    .dataframe tbody tr th:only-of-type {\n",
       "        vertical-align: middle;\n",
       "    }\n",
       "\n",
       "    .dataframe tbody tr th {\n",
       "        vertical-align: top;\n",
       "    }\n",
       "\n",
       "    .dataframe thead th {\n",
       "        text-align: right;\n",
       "    }\n",
       "</style>\n",
       "<table border=\"1\" class=\"dataframe\">\n",
       "  <thead>\n",
       "    <tr style=\"text-align: right;\">\n",
       "      <th></th>\n",
       "      <th>TYPEOFCUISINE</th>\n",
       "      <th>DISHID</th>\n",
       "      <th>PRICE</th>\n",
       "    </tr>\n",
       "  </thead>\n",
       "  <tbody>\n",
       "    <tr>\n",
       "      <th>0</th>\n",
       "      <td>Continental</td>\n",
       "      <td>10</td>\n",
       "      <td>659.12</td>\n",
       "    </tr>\n",
       "    <tr>\n",
       "      <th>1</th>\n",
       "      <td>English</td>\n",
       "      <td>37</td>\n",
       "      <td>714.12</td>\n",
       "    </tr>\n",
       "    <tr>\n",
       "      <th>2</th>\n",
       "      <td>Italian</td>\n",
       "      <td>31</td>\n",
       "      <td>866.19</td>\n",
       "    </tr>\n",
       "  </tbody>\n",
       "</table>\n",
       "</div>"
      ],
      "text/plain": [
       "  TYPEOFCUISINE  DISHID   PRICE\n",
       "0   Continental      10  659.12\n",
       "1       English      37  714.12\n",
       "2       Italian      31  866.19"
      ]
     },
     "execution_count": 48,
     "metadata": {},
     "output_type": "execute_result"
    }
   ],
   "source": [
    "grouped_dishes=dishes.groupby('TYPEOFCUISINE').sum().reset_index()\n",
    "grouped_dishes"
   ]
  },
  {
   "cell_type": "code",
   "execution_count": 49,
   "id": "c23bf477",
   "metadata": {},
   "outputs": [
    {
     "data": {
      "text/plain": [
       "Text(0.5, 1.0, 'Sum of prices and the cuisines')"
      ]
     },
     "execution_count": 49,
     "metadata": {},
     "output_type": "execute_result"
    },
    {
     "data": {
      "image/png": "[encoded data removed]",
      "text/plain": [
       "<Figure size 360x360 with 1 Axes>"
      ]
     },
     "metadata": {},
     "output_type": "display_data"
    }
   ],
   "source": [
    "a=sns.barplot(data=grouped_dishes, x=\"TYPEOFCUISINE\", y=\"PRICE\")\n",
    "for p in a.patches:\n",
    "   a.annotate('{:.1f}'.format(p.get_height()), (p.get_x()+0.25, p.get_height()+0.01))\n",
    "sns.set(rc={'figure.figsize':(5,5)})\n",
    "a.set_title('Sum of prices and the cuisines')"
   ]
  },
  {
   "cell_type": "code",
   "execution_count": null,
   "id": "d8bff98e",
   "metadata": {},
   "outputs": [],
   "source": []
  }
 ],
 "metadata": {
  "kernelspec": {
   "display_name": "Python 3",
   "language": "python",
   "name": "python3"
  },
  "language_info": {
   "codemirror_mode": {
    "name": "ipython",
    "version": 3
   },
   "file_extension": ".py",
   "mimetype": "text/x-python",
   "name": "python",
   "nbconvert_exporter": "python",
   "pygments_lexer": "ipython3",
   "version": "3.9.5"
  }
 },
 "nbformat": 4,
 "nbformat_minor": 5
}
